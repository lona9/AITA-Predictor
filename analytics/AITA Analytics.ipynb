{
 "cells": [
  {
   "cell_type": "markdown",
   "id": "cf773e26",
   "metadata": {},
   "source": [
    "# Am I The A-hole Predictor Project\n",
    "\n",
    "This project is based on one of Reddit's most popular section: <a href=\"https://www.reddit.com/r/AmItheAsshole/\">r/AmITheAsshole</a>. This subreddit (AITA for short) has a simple premise of having people post about social experiences where they're unsure if they're the one at fault or not. Redditors participate in deciding their judgement, commenting on the situation, giving a brief summary of what they think is going on and argumenting for each of the valid judgements:\n",
    "\n",
    "- **YTA** (You're the A-hole)\n",
    "- **NTA** (Not the A-hole, but the other person is)\n",
    "- **ESH** (Everyone Sucks Here)\n",
    "- **NAH** (No A-holes Here)\n",
    "\n",
    "People vote in their comments, and after 18 hours, a flair is given to each post with the verdict of the public, which then usually translates to the original posters reacting to their judgement, for better or worse (and this is where this subreddit gets one of the juiciest comment sections on the entire website!). However, this being both Reddit and the internet, there are some biases included, and the crowd allegedly tends to pick certain verdicts when the story has some buzzwords or characters which are not as favored in the internet, such as: mothers-in-law, pregnant people, childen being loud, among many others, as well as certain situations where the subreddit is pretty vocal about defending, specially when it includes people asking for help when there's no legal obligation to do so.\n",
    "\n",
    "In this project, I took this perceived notion of being able to predict the outcome when the story is told in a certain way or with certain participates, and a dataset of 150,000 submissions was obtained and processed to obtain some descriptive statistics about posts based on Reddit activity such as comments and up/downvotes to characterize the posts, and build a machine learning model to predict the verdict of a user input text telling a story."
   ]
  },
  {
   "cell_type": "markdown",
   "id": "ab9ebe83",
   "metadata": {},
   "source": [
    "**Import statements**"
   ]
  },
  {
   "cell_type": "code",
   "execution_count": 54,
   "id": "2c640e2e",
   "metadata": {},
   "outputs": [],
   "source": [
    "import pandas as pd\n",
    "import datetime\n",
    "import numpy as np\n",
    "import os\n",
    "import matplotlib.pyplot as plt\n",
    "import seaborn as sns\n",
    "%matplotlib inline"
   ]
  },
  {
   "cell_type": "markdown",
   "id": "f8a6b69c",
   "metadata": {},
   "source": [
    "### Loading the dataset\n",
    "\n",
    "The dataset was obtained from a script which uses two Reddit APIs to obtain posts and then pull information about each of them."
   ]
  },
  {
   "cell_type": "code",
   "execution_count": 55,
   "id": "279b3c0f",
   "metadata": {},
   "outputs": [],
   "source": [
    "df = pd.read_csv(os.path.join(\"../reddit_scraper/reddit_posts1.csv\"))"
   ]
  },
  {
   "cell_type": "code",
   "execution_count": 56,
   "id": "aad584a1",
   "metadata": {
    "scrolled": false
   },
   "outputs": [
    {
     "data": {
      "text/html": [
       "<div>\n",
       "<style scoped>\n",
       "    .dataframe tbody tr th:only-of-type {\n",
       "        vertical-align: middle;\n",
       "    }\n",
       "\n",
       "    .dataframe tbody tr th {\n",
       "        vertical-align: top;\n",
       "    }\n",
       "\n",
       "    .dataframe thead th {\n",
       "        text-align: right;\n",
       "    }\n",
       "</style>\n",
       "<table border=\"1\" class=\"dataframe\">\n",
       "  <thead>\n",
       "    <tr style=\"text-align: right;\">\n",
       "      <th></th>\n",
       "      <th>title</th>\n",
       "      <th>id</th>\n",
       "      <th>score</th>\n",
       "      <th>upvote_ratio</th>\n",
       "      <th>url</th>\n",
       "      <th>num_comments</th>\n",
       "      <th>body</th>\n",
       "      <th>created</th>\n",
       "      <th>edited</th>\n",
       "      <th>verdict</th>\n",
       "      <th>over_18</th>\n",
       "    </tr>\n",
       "  </thead>\n",
       "  <tbody>\n",
       "    <tr>\n",
       "      <th>0</th>\n",
       "      <td>AITA because I don’t agree with my mum’s friend</td>\n",
       "      <td>rt9xvc</td>\n",
       "      <td>1</td>\n",
       "      <td>1.00</td>\n",
       "      <td>https://www.reddit.com/r/AmItheAsshole/comment...</td>\n",
       "      <td>1</td>\n",
       "      <td>[removed]</td>\n",
       "      <td>2021-12-31 23:58:36</td>\n",
       "      <td>1641006108.0</td>\n",
       "      <td>NaN</td>\n",
       "      <td>False</td>\n",
       "    </tr>\n",
       "    <tr>\n",
       "      <th>1</th>\n",
       "      <td>AITA for refusing to visit my father because o...</td>\n",
       "      <td>rt9vwd</td>\n",
       "      <td>1873</td>\n",
       "      <td>0.97</td>\n",
       "      <td>https://www.reddit.com/r/AmItheAsshole/comment...</td>\n",
       "      <td>226</td>\n",
       "      <td>Without going into novel length, my father cur...</td>\n",
       "      <td>2021-12-31 23:55:16</td>\n",
       "      <td>False</td>\n",
       "      <td>Not the A-hole</td>\n",
       "      <td>False</td>\n",
       "    </tr>\n",
       "    <tr>\n",
       "      <th>2</th>\n",
       "      <td>WIBTA still for ruining our family movie night...</td>\n",
       "      <td>rt9vtn</td>\n",
       "      <td>1</td>\n",
       "      <td>1.00</td>\n",
       "      <td>https://www.reddit.com/r/AmItheAsshole/comment...</td>\n",
       "      <td>1</td>\n",
       "      <td>[removed]</td>\n",
       "      <td>2021-12-31 23:55:08</td>\n",
       "      <td>False</td>\n",
       "      <td>NaN</td>\n",
       "      <td>False</td>\n",
       "    </tr>\n",
       "    <tr>\n",
       "      <th>3</th>\n",
       "      <td>WIBTA if I told a toddler's mom to have a bett...</td>\n",
       "      <td>rt9v3v</td>\n",
       "      <td>9</td>\n",
       "      <td>0.74</td>\n",
       "      <td>https://www.reddit.com/r/AmItheAsshole/comment...</td>\n",
       "      <td>22</td>\n",
       "      <td>I'm sitting in a local Applebee's and across f...</td>\n",
       "      <td>2021-12-31 23:53:53</td>\n",
       "      <td>False</td>\n",
       "      <td>Everyone Sucks</td>\n",
       "      <td>False</td>\n",
       "    </tr>\n",
       "    <tr>\n",
       "      <th>4</th>\n",
       "      <td>AITA for being completely over my relationship...</td>\n",
       "      <td>rt9t6e</td>\n",
       "      <td>1</td>\n",
       "      <td>1.00</td>\n",
       "      <td>https://www.reddit.com/r/AmItheAsshole/comment...</td>\n",
       "      <td>1</td>\n",
       "      <td>[removed]</td>\n",
       "      <td>2021-12-31 23:50:47</td>\n",
       "      <td>False</td>\n",
       "      <td>NaN</td>\n",
       "      <td>False</td>\n",
       "    </tr>\n",
       "  </tbody>\n",
       "</table>\n",
       "</div>"
      ],
      "text/plain": [
       "                                               title      id  score  \\\n",
       "0    AITA because I don’t agree with my mum’s friend  rt9xvc      1   \n",
       "1  AITA for refusing to visit my father because o...  rt9vwd   1873   \n",
       "2  WIBTA still for ruining our family movie night...  rt9vtn      1   \n",
       "3  WIBTA if I told a toddler's mom to have a bett...  rt9v3v      9   \n",
       "4  AITA for being completely over my relationship...  rt9t6e      1   \n",
       "\n",
       "   upvote_ratio                                                url  \\\n",
       "0          1.00  https://www.reddit.com/r/AmItheAsshole/comment...   \n",
       "1          0.97  https://www.reddit.com/r/AmItheAsshole/comment...   \n",
       "2          1.00  https://www.reddit.com/r/AmItheAsshole/comment...   \n",
       "3          0.74  https://www.reddit.com/r/AmItheAsshole/comment...   \n",
       "4          1.00  https://www.reddit.com/r/AmItheAsshole/comment...   \n",
       "\n",
       "   num_comments                                               body  \\\n",
       "0             1                                          [removed]   \n",
       "1           226  Without going into novel length, my father cur...   \n",
       "2             1                                          [removed]   \n",
       "3            22  I'm sitting in a local Applebee's and across f...   \n",
       "4             1                                          [removed]   \n",
       "\n",
       "               created        edited         verdict  over_18  \n",
       "0  2021-12-31 23:58:36  1641006108.0             NaN    False  \n",
       "1  2021-12-31 23:55:16         False  Not the A-hole    False  \n",
       "2  2021-12-31 23:55:08         False             NaN    False  \n",
       "3  2021-12-31 23:53:53         False  Everyone Sucks    False  \n",
       "4  2021-12-31 23:50:47         False             NaN    False  "
      ]
     },
     "execution_count": 56,
     "metadata": {},
     "output_type": "execute_result"
    }
   ],
   "source": [
    "df.head()"
   ]
  },
  {
   "cell_type": "code",
   "execution_count": 37,
   "id": "4f7a8f97",
   "metadata": {
    "scrolled": true
   },
   "outputs": [
    {
     "name": "stdout",
     "output_type": "stream",
     "text": [
      "<class 'pandas.core.frame.DataFrame'>\n",
      "RangeIndex: 100000 entries, 0 to 99999\n",
      "Data columns (total 11 columns):\n",
      " #   Column        Non-Null Count   Dtype  \n",
      "---  ------        --------------   -----  \n",
      " 0   title         100000 non-null  object \n",
      " 1   id            100000 non-null  object \n",
      " 2   score         100000 non-null  int64  \n",
      " 3   upvote_ratio  100000 non-null  float64\n",
      " 4   url           100000 non-null  object \n",
      " 5   num_comments  100000 non-null  int64  \n",
      " 6   body          99998 non-null   object \n",
      " 7   created       100000 non-null  object \n",
      " 8   edited        100000 non-null  object \n",
      " 9   verdict       26468 non-null   object \n",
      " 10  over_18       100000 non-null  bool   \n",
      "dtypes: bool(1), float64(1), int64(2), object(7)\n",
      "memory usage: 7.7+ MB\n"
     ]
    }
   ],
   "source": [
    "df.info()"
   ]
  },
  {
   "cell_type": "markdown",
   "id": "c02c1ae3",
   "metadata": {},
   "source": [
    "The fields available were decided based on the <a href=\"https://praw.readthedocs.io/en/latest/code_overview/models/submission.html?highlight=submission\">PRAW docs</a> for both the ML model and analytics:\n",
    "- **title**: title of the submission\n",
    "- **id**: ID of the submission\n",
    "- **score**: The number of upvotes for the submission.\n",
    "- **upvote_ratio**: The percentage of upvotes from all votes on the submission.\n",
    "- **url**: The URL the submission links to, or the permalink if a selfpost.\n",
    "- **num_comments**: The number of comments on the submission.\n",
    "- **body (renamed from selftext)**: The submissions’ selftext - an empty string if a link post. \n",
    "- **created**: Time the submission was created, represented in Unix Time.\n",
    "- **edited**: Whether or not the submission has been edited.\n",
    "- **verdict** (renamed from link_flair_text): The link flair’s text content, or None if not flaired.\n",
    "- **over_18**: Whether or not the submission has been marked as NSFW.\n",
    "\n",
    "The main fields for the model are the content body of the submission and the verdict, which comes from the submission flair, which is given after the 18 hours of people commenting on the post."
   ]
  },
  {
   "cell_type": "markdown",
   "id": "112c03f7",
   "metadata": {},
   "source": [
    "### Cleaning\n",
    "\n",
    "For the analysis, we will remove posts with tags outside the verdicts (mod posts or without a flair). Also, \"Not enough info\" posts will be removed as well, as they're considered invalid from the submission point of view.\n",
    "\n",
    "The edited column has a mix of datatypes, so we'll change it to a boolean type to know if the post was edited or not."
   ]
  },
  {
   "cell_type": "code",
   "execution_count": 63,
   "id": "2d56c31e",
   "metadata": {},
   "outputs": [
    {
     "data": {
      "text/plain": [
       "Not the A-hole     18759\n",
       "Asshole             3896\n",
       "No A-holes here     1419\n",
       "Everyone Sucks      1058\n",
       "Not enough info      560\n",
       "TL;DR                396\n",
       "UPDATE               374\n",
       "Open Forum             2\n",
       "Talk ENDED             2\n",
       "META                   1\n",
       "Mods Needed!           1\n",
       "Name: verdict, dtype: int64"
      ]
     },
     "execution_count": 63,
     "metadata": {},
     "output_type": "execute_result"
    }
   ],
   "source": [
    "df.verdict.value_counts()"
   ]
  },
  {
   "cell_type": "code",
   "execution_count": 57,
   "id": "3390d5ba",
   "metadata": {
    "scrolled": true
   },
   "outputs": [],
   "source": [
    "nan = np.nan\n",
    "clean_df = df.query(\"verdict not in ['TL;DR', 'UPDATE', @nan, 'Talk ENDED', 'Open Forum', 'Mods Needed!', 'META', 'Not enough info']\")"
   ]
  },
  {
   "cell_type": "code",
   "execution_count": 58,
   "id": "d1781f8e",
   "metadata": {},
   "outputs": [],
   "source": [
    "is_edited = []\n",
    "\n",
    "for i in clean_df.edited.values:\n",
    "    if i == 'False':\n",
    "        column_value = False\n",
    "    else:\n",
    "        column_value = True\n",
    "    is_edited.append(column_value)"
   ]
  },
  {
   "cell_type": "code",
   "execution_count": 59,
   "id": "53630fcf",
   "metadata": {},
   "outputs": [],
   "source": [
    "clean_df.insert(8, 'is_edited', is_edited)"
   ]
  },
  {
   "cell_type": "code",
   "execution_count": 60,
   "id": "f5ae7e24",
   "metadata": {
    "scrolled": true
   },
   "outputs": [],
   "source": [
    "clean_df = clean_df.drop(columns=[\"edited\"])"
   ]
  },
  {
   "cell_type": "code",
   "execution_count": 62,
   "id": "23d8cbd6",
   "metadata": {
    "scrolled": true
   },
   "outputs": [
    {
     "name": "stdout",
     "output_type": "stream",
     "text": [
      "<class 'pandas.core.frame.DataFrame'>\n",
      "Int64Index: 25132 entries, 1 to 99997\n",
      "Data columns (total 11 columns):\n",
      " #   Column        Non-Null Count  Dtype  \n",
      "---  ------        --------------  -----  \n",
      " 0   title         25132 non-null  object \n",
      " 1   id            25132 non-null  object \n",
      " 2   score         25132 non-null  int64  \n",
      " 3   upvote_ratio  25132 non-null  float64\n",
      " 4   url           25132 non-null  object \n",
      " 5   num_comments  25132 non-null  int64  \n",
      " 6   body          25132 non-null  object \n",
      " 7   created       25132 non-null  object \n",
      " 8   is_edited     25132 non-null  bool   \n",
      " 9   verdict       25132 non-null  object \n",
      " 10  over_18       25132 non-null  bool   \n",
      "dtypes: bool(2), float64(1), int64(2), object(6)\n",
      "memory usage: 2.0+ MB\n"
     ]
    }
   ],
   "source": [
    "clean_df.info()"
   ]
  },
  {
   "cell_type": "markdown",
   "id": "75b2a8af",
   "metadata": {},
   "source": [
    "After cleaning up, we lost nearly 75% of the original posts, which didn't have a flair as seen in the initial assessment. "
   ]
  },
  {
   "cell_type": "markdown",
   "id": "d79699c3",
   "metadata": {},
   "source": [
    "# Removed posts proportion"
   ]
  },
  {
   "cell_type": "code",
   "execution_count": 44,
   "id": "07fe6a70",
   "metadata": {},
   "outputs": [],
   "source": [
    "total_removed_posts = clean_df.query(\"body in ['[deleted]', '[removed]']\").id.count()"
   ]
  },
  {
   "cell_type": "code",
   "execution_count": 66,
   "id": "62b1710d",
   "metadata": {},
   "outputs": [],
   "source": [
    "pctg_verdicts = clean_df.query(\"body in ['[deleted]', '[removed]']\").verdict.value_counts() / total_removed_posts * 100"
   ]
  },
  {
   "cell_type": "code",
   "execution_count": 76,
   "id": "f19e326f",
   "metadata": {},
   "outputs": [],
   "source": [
    "## general parameters for plotting\n",
    "legends = list(clean_df.verdict.unique().astype(\"str\"))\n",
    "ind = np.arange(len(pctg_verdicts))\n",
    "ticks = np.arange(len(labels))\n",
    "width = 0.9"
   ]
  },
  {
   "cell_type": "code",
   "execution_count": 80,
   "id": "c6617f59",
   "metadata": {},
   "outputs": [
    {
     "data": {
      "image/png": "[encoded data removed]",
      "text/plain": [
       "<Figure size 800x550 with 1 Axes>"
      ]
     },
     "metadata": {
      "needs_background": "light"
     },
     "output_type": "display_data"
    }
   ],
   "source": [
    "## plotting\n",
    "plt.figure(figsize=(8,5.5), dpi=100)\n",
    "plt.bar(ind, pctg_verdicts, width, label = \"Percentage of posts\", color=(0.33, 0.62, 0.67, 0.85))\n",
    "\n",
    "plt.ylabel('Percentage of Verdicts', fontsize=14)\n",
    "plt.xlabel('Verdicts', fontsize=14)\n",
    "plt.title('Percentage of posts', fontsize=20)\n",
    "locations = ticks\n",
    "plt.xticks(locations, labels, fontsize=12)\n",
    "plt.yticks()\n",
    "sns.despine();"
   ]
  },
  {
   "cell_type": "markdown",
   "id": "2bf74ec6",
   "metadata": {},
   "source": [
    "# General description"
   ]
  },
  {
   "cell_type": "code",
   "execution_count": 174,
   "id": "1d016cfd",
   "metadata": {
    "scrolled": true
   },
   "outputs": [
    {
     "data": {
      "text/html": [
       "<div>\n",
       "<style scoped>\n",
       "    .dataframe tbody tr th:only-of-type {\n",
       "        vertical-align: middle;\n",
       "    }\n",
       "\n",
       "    .dataframe tbody tr th {\n",
       "        vertical-align: top;\n",
       "    }\n",
       "\n",
       "    .dataframe thead th {\n",
       "        text-align: right;\n",
       "    }\n",
       "</style>\n",
       "<table border=\"1\" class=\"dataframe\">\n",
       "  <thead>\n",
       "    <tr style=\"text-align: right;\">\n",
       "      <th></th>\n",
       "      <th>score</th>\n",
       "      <th>upvote_ratio</th>\n",
       "      <th>num_comments</th>\n",
       "    </tr>\n",
       "  </thead>\n",
       "  <tbody>\n",
       "    <tr>\n",
       "      <th>count</th>\n",
       "      <td>21377.000000</td>\n",
       "      <td>21377.000000</td>\n",
       "      <td>21377.000000</td>\n",
       "    </tr>\n",
       "    <tr>\n",
       "      <th>mean</th>\n",
       "      <td>615.662113</td>\n",
       "      <td>0.800828</td>\n",
       "      <td>118.628152</td>\n",
       "    </tr>\n",
       "    <tr>\n",
       "      <th>std</th>\n",
       "      <td>2291.983142</td>\n",
       "      <td>0.140574</td>\n",
       "      <td>372.662983</td>\n",
       "    </tr>\n",
       "    <tr>\n",
       "      <th>min</th>\n",
       "      <td>0.000000</td>\n",
       "      <td>0.140000</td>\n",
       "      <td>3.000000</td>\n",
       "    </tr>\n",
       "    <tr>\n",
       "      <th>25%</th>\n",
       "      <td>6.000000</td>\n",
       "      <td>0.710000</td>\n",
       "      <td>16.000000</td>\n",
       "    </tr>\n",
       "    <tr>\n",
       "      <th>50%</th>\n",
       "      <td>16.000000</td>\n",
       "      <td>0.830000</td>\n",
       "      <td>28.000000</td>\n",
       "    </tr>\n",
       "    <tr>\n",
       "      <th>75%</th>\n",
       "      <td>99.000000</td>\n",
       "      <td>0.920000</td>\n",
       "      <td>62.000000</td>\n",
       "    </tr>\n",
       "    <tr>\n",
       "      <th>max</th>\n",
       "      <td>41057.000000</td>\n",
       "      <td>1.000000</td>\n",
       "      <td>8053.000000</td>\n",
       "    </tr>\n",
       "  </tbody>\n",
       "</table>\n",
       "</div>"
      ],
      "text/plain": [
       "              score  upvote_ratio  num_comments\n",
       "count  21377.000000  21377.000000  21377.000000\n",
       "mean     615.662113      0.800828    118.628152\n",
       "std     2291.983142      0.140574    372.662983\n",
       "min        0.000000      0.140000      3.000000\n",
       "25%        6.000000      0.710000     16.000000\n",
       "50%       16.000000      0.830000     28.000000\n",
       "75%       99.000000      0.920000     62.000000\n",
       "max    41057.000000      1.000000   8053.000000"
      ]
     },
     "execution_count": 174,
     "metadata": {},
     "output_type": "execute_result"
    }
   ],
   "source": [
    "clean_df.describe()"
   ]
  },
  {
   "cell_type": "markdown",
   "id": "2f2aec98",
   "metadata": {},
   "source": [
    "# Over 18 posts"
   ]
  },
  {
   "cell_type": "code",
   "execution_count": 52,
   "id": "54ff3f5e",
   "metadata": {},
   "outputs": [
    {
     "data": {
      "text/plain": [
       "verdict\n",
       "Asshole             19\n",
       "Everyone Sucks       7\n",
       "No A-holes here     11\n",
       "Not the A-hole     119\n",
       "Name: over_18, dtype: int64"
      ]
     },
     "execution_count": 52,
     "metadata": {},
     "output_type": "execute_result"
    }
   ],
   "source": [
    "clean_df.groupby(\"verdict\").over_18.sum()"
   ]
  },
  {
   "cell_type": "markdown",
   "id": "cdaeb394",
   "metadata": {},
   "source": [
    "# General overview of verdicts"
   ]
  },
  {
   "cell_type": "code",
   "execution_count": 33,
   "id": "f733d243",
   "metadata": {},
   "outputs": [
    {
     "data": {
      "text/plain": [
       "25132"
      ]
     },
     "execution_count": 33,
     "metadata": {},
     "output_type": "execute_result"
    }
   ],
   "source": [
    "total_posts = clean_df.id.count()\n",
    "total_posts"
   ]
  },
  {
   "cell_type": "code",
   "execution_count": 43,
   "id": "8e2bf689",
   "metadata": {
    "scrolled": false
   },
   "outputs": [
    {
     "data": {
      "text/plain": [
       "Not the A-hole     74.641891\n",
       "Asshole            15.502149\n",
       "No A-holes here     5.646188\n",
       "Everyone Sucks      4.209772\n",
       "Name: verdict, dtype: float64"
      ]
     },
     "execution_count": 43,
     "metadata": {},
     "output_type": "execute_result"
    }
   ],
   "source": [
    "clean_df.verdict.value_counts() / total_posts * 100"
   ]
  },
  {
   "cell_type": "markdown",
   "id": "f8bc0ecf",
   "metadata": {},
   "source": [
    "# Upvote ratio"
   ]
  },
  {
   "cell_type": "code",
   "execution_count": 176,
   "id": "208df58c",
   "metadata": {
    "scrolled": true
   },
   "outputs": [
    {
     "data": {
      "text/plain": [
       "verdict\n",
       "Asshole            0.699498\n",
       "Everyone Sucks     0.745308\n",
       "No A-holes here    0.759542\n",
       "Not the A-hole     0.826118\n",
       "Name: upvote_ratio, dtype: float64"
      ]
     },
     "execution_count": 176,
     "metadata": {},
     "output_type": "execute_result"
    }
   ],
   "source": [
    "clean_df.groupby(\"verdict\").upvote_ratio.mean()"
   ]
  },
  {
   "cell_type": "markdown",
   "id": "fe3ca3ba",
   "metadata": {},
   "source": [
    "# Number of comments"
   ]
  },
  {
   "cell_type": "code",
   "execution_count": 177,
   "id": "12dff7d4",
   "metadata": {
    "scrolled": true
   },
   "outputs": [
    {
     "data": {
      "text/plain": [
       "verdict\n",
       "Asshole            193.902868\n",
       "Everyone Sucks     110.381279\n",
       "No A-holes here     59.662848\n",
       "Not the A-hole     109.272593\n",
       "Name: num_comments, dtype: float64"
      ]
     },
     "execution_count": 177,
     "metadata": {},
     "output_type": "execute_result"
    }
   ],
   "source": [
    "clean_df.groupby(\"verdict\").num_comments.mean()"
   ]
  },
  {
   "cell_type": "markdown",
   "id": "d5010ff7",
   "metadata": {},
   "source": [
    "# Number of upvotes"
   ]
  },
  {
   "cell_type": "code",
   "execution_count": 178,
   "id": "6a3a0c05",
   "metadata": {
    "scrolled": true
   },
   "outputs": [
    {
     "data": {
      "text/plain": [
       "verdict\n",
       "Asshole            505.537810\n",
       "Everyone Sucks     321.625571\n",
       "No A-holes here    172.189853\n",
       "Not the A-hole     685.821911\n",
       "Name: score, dtype: float64"
      ]
     },
     "execution_count": 178,
     "metadata": {},
     "output_type": "execute_result"
    }
   ],
   "source": [
    "clean_df.groupby(\"verdict\").score.mean()"
   ]
  },
  {
   "cell_type": "markdown",
   "id": "5ea583c7",
   "metadata": {},
   "source": [
    "# Word Cloud Files"
   ]
  },
  {
   "cell_type": "code",
   "execution_count": 179,
   "id": "2895f53c",
   "metadata": {},
   "outputs": [],
   "source": [
    "nta_df = clean_df.query(\"verdict == 'Not the A-hole'\").sort_values(by=\"num_comments\", ascending=False).head(500)"
   ]
  },
  {
   "cell_type": "code",
   "execution_count": 180,
   "id": "f7445ab4",
   "metadata": {},
   "outputs": [],
   "source": [
    "yta_df = clean_df.query(\"verdict == 'Asshole'\").sort_values(by=\"num_comments\", ascending=False).head(500)"
   ]
  },
  {
   "cell_type": "code",
   "execution_count": 181,
   "id": "414609a4",
   "metadata": {},
   "outputs": [],
   "source": [
    "nta_text = []\n",
    "\n",
    "for text in nta_df.body.values:\n",
    "    with open(os.path.join(\"../analytics/nta_text.txt\"), \"a+\") as f:\n",
    "        f.write(text)"
   ]
  },
  {
   "cell_type": "code",
   "execution_count": 182,
   "id": "a74ac570",
   "metadata": {},
   "outputs": [],
   "source": [
    "yta_text = []\n",
    "\n",
    "for text in yta_df.body.values:\n",
    "    with open(os.path.join(\"../analytics/yta_text.txt\"), \"a+\") as f:\n",
    "        f.write(text)"
   ]
  },
  {
   "cell_type": "markdown",
   "id": "fdd38ee8",
   "metadata": {},
   "source": [
    "## Discussion\n",
    "This project represents the end of the Nanodegree, and was created from scratch thinking of something that could be both fun and could provide insight from a popular website that I personally browse everyday. It was challenging, and tries to cover a little bit of everything learned through this course. The dataset was obtained from scratch using Reddit APIs, which was a whole world to explore on its own and took a lot of testing to get the information with the desired format and using the right filters. \n",
    "\n",
    "The machine learning pipeline was similar to what was covered during the course, but proved to be even more rewarding when using original data and iterating through the script to improve its metrics for a better model. The original dataset was biased towards a particular verdict, so several things were tested before the final version which improved its metrics from the very unbalanced first one, which again had high f-score for the class with bigger size, but really low on all the others. A few things were implemented, like using balanced classes, trying different dataset sizes, and looking through different parameters to test with GridSearch. In the end, the model had higher metrics, and since the classes were balanced, the accuracy improved overall. It's not perfect (yet), due to the complexity of this challenge, which might be a bit ambitious in wanting to classify based on internet users moral compass, which is an issue on its own."
   ]
  }
 ],
 "metadata": {
  "kernelspec": {
   "display_name": "Python 3",
   "language": "python",
   "name": "python3"
  },
  "language_info": {
   "codemirror_mode": {
    "name": "ipython",
    "version": 3
   },
   "file_extension": ".py",
   "mimetype": "text/x-python",
   "name": "python",
   "nbconvert_exporter": "python",
   "pygments_lexer": "ipython3",
   "version": "3.8.8"
  }
 },
 "nbformat": 4,
 "nbformat_minor": 5
}
