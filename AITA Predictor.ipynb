{
 "cells": [
  {
   "cell_type": "markdown",
   "id": "cf773e26",
   "metadata": {},
   "source": [
    "# Am I The A-hole Predictor Project\n",
    "\n",
    "## Table of contents\n",
    "- <a href=\"#intro\">Introduction</a>\n",
    "- <a href=\"#loading\">Loading and assessment</a>\n",
    "- <a href=\"#cleaning\">Cleaning</a>\n",
    "- <a href=\"#overview\">General Overview</a>\n",
    "- <a href=\"#insights\">Insights</a>\n",
    "- <a href=\"#discussion\">Discussion</a>\n",
    "- <a href=\"#tester\">Model Tester</a>"
   ]
  },
  {
   "cell_type": "markdown",
   "id": "01dd2502",
   "metadata": {},
   "source": [
    "<a id=\"intro\"></a>\n",
    "## Introduction\n",
    "This project is based on one of Reddit's most popular section: <a href=\"https://www.reddit.com/r/AmItheAsshole/\">r/AmITheAsshole</a>. This subreddit (AITA for short) has a simple premise of having people post about social experiences where they're unsure if they're the one at fault or not. Redditors participate in deciding their judgement, commenting on the situation, giving a brief summary of what they think is going on and argumenting for each of the valid judgements:\n",
    "\n",
    "- **YTA** (You're the A-hole)\n",
    "- **NTA** (Not the A-hole, but the other person is)\n",
    "- **ESH** (Everyone Sucks Here)\n",
    "- **NAH** (No A-holes Here)\n",
    "\n",
    "People vote in their comments, and after 18 hours, a flair is given to each post with the verdict of the public, which then usually translates to the original posters reacting to their judgement, for better or worse (and this is where this subreddit gets one of the juiciest comment sections on the entire website!). However, this being both Reddit and the internet, there are some biases included, and the crowd allegedly tends to pick certain verdicts when the story has some buzzwords or characters which are not as favored in the internet, such as: mothers-in-law, pregnant people, childen being loud, among many others, as well as certain situations where the subreddit is pretty vocal about defending, specially when it includes people asking for help when there's no legal obligation to do so.\n",
    "\n",
    "In this project, I took this perceived notion of being able to predict the outcome when the story is told in a certain way or with certain participates, and retrieved a dataset of 150,000 submissions, processed to obtain some descriptive statistics about posts based on Reddit activity such as comments and up/downvotes to characterize the posts, and build a machine learning model to predict the verdict of a user input text telling a story."
   ]
  },
  {
   "cell_type": "markdown",
   "id": "ab9ebe83",
   "metadata": {},
   "source": [
    "**Import statements**"
   ]
  },
  {
   "cell_type": "code",
   "execution_count": 7,
   "id": "2c640e2e",
   "metadata": {},
   "outputs": [],
   "source": [
    "import pandas as pd\n",
    "import datetime\n",
    "import numpy as np\n",
    "import os\n",
    "import matplotlib.pyplot as plt\n",
    "import seaborn as sns\n",
    "%matplotlib inline"
   ]
  },
  {
   "cell_type": "markdown",
   "id": "f8a6b69c",
   "metadata": {},
   "source": [
    "<a id=\"loading\"></a>\n",
    "## Loading and assessment\n",
    "\n",
    "The dataset was obtained from a script which uses two Reddit APIs to obtain posts and then pull information about each of them."
   ]
  },
  {
   "cell_type": "code",
   "execution_count": 9,
   "id": "279b3c0f",
   "metadata": {},
   "outputs": [],
   "source": [
    "df = pd.read_csv(os.path.join(\"../reddit_scraper/reddit_posts.csv\"))"
   ]
  },
  {
   "cell_type": "code",
   "execution_count": 10,
   "id": "aad584a1",
   "metadata": {
    "scrolled": false
   },
   "outputs": [
    {
     "data": {
      "text/html": [
       "<div>\n",
       "<style scoped>\n",
       "    .dataframe tbody tr th:only-of-type {\n",
       "        vertical-align: middle;\n",
       "    }\n",
       "\n",
       "    .dataframe tbody tr th {\n",
       "        vertical-align: top;\n",
       "    }\n",
       "\n",
       "    .dataframe thead th {\n",
       "        text-align: right;\n",
       "    }\n",
       "</style>\n",
       "<table border=\"1\" class=\"dataframe\">\n",
       "  <thead>\n",
       "    <tr style=\"text-align: right;\">\n",
       "      <th></th>\n",
       "      <th>title</th>\n",
       "      <th>id</th>\n",
       "      <th>score</th>\n",
       "      <th>upvote_ratio</th>\n",
       "      <th>url</th>\n",
       "      <th>num_comments</th>\n",
       "      <th>body</th>\n",
       "      <th>created</th>\n",
       "      <th>edited</th>\n",
       "      <th>verdict</th>\n",
       "      <th>over_18</th>\n",
       "    </tr>\n",
       "  </thead>\n",
       "  <tbody>\n",
       "    <tr>\n",
       "      <th>0</th>\n",
       "      <td>AITA because I don’t agree with my mum’s friend</td>\n",
       "      <td>rt9xvc</td>\n",
       "      <td>1</td>\n",
       "      <td>1.00</td>\n",
       "      <td>https://www.reddit.com/r/AmItheAsshole/comment...</td>\n",
       "      <td>1</td>\n",
       "      <td>[removed]</td>\n",
       "      <td>2021-12-31 23:58:36</td>\n",
       "      <td>1641006108.0</td>\n",
       "      <td>NaN</td>\n",
       "      <td>False</td>\n",
       "    </tr>\n",
       "    <tr>\n",
       "      <th>1</th>\n",
       "      <td>AITA for refusing to visit my father because o...</td>\n",
       "      <td>rt9vwd</td>\n",
       "      <td>1869</td>\n",
       "      <td>0.97</td>\n",
       "      <td>https://www.reddit.com/r/AmItheAsshole/comment...</td>\n",
       "      <td>226</td>\n",
       "      <td>Without going into novel length, my father cur...</td>\n",
       "      <td>2021-12-31 23:55:16</td>\n",
       "      <td>False</td>\n",
       "      <td>Not the A-hole</td>\n",
       "      <td>False</td>\n",
       "    </tr>\n",
       "    <tr>\n",
       "      <th>2</th>\n",
       "      <td>WIBTA still for ruining our family movie night...</td>\n",
       "      <td>rt9vtn</td>\n",
       "      <td>1</td>\n",
       "      <td>1.00</td>\n",
       "      <td>https://www.reddit.com/r/AmItheAsshole/comment...</td>\n",
       "      <td>1</td>\n",
       "      <td>[removed]</td>\n",
       "      <td>2021-12-31 23:55:08</td>\n",
       "      <td>False</td>\n",
       "      <td>NaN</td>\n",
       "      <td>False</td>\n",
       "    </tr>\n",
       "    <tr>\n",
       "      <th>3</th>\n",
       "      <td>WIBTA if I told a toddler's mom to have a bett...</td>\n",
       "      <td>rt9v3v</td>\n",
       "      <td>10</td>\n",
       "      <td>0.75</td>\n",
       "      <td>https://www.reddit.com/r/AmItheAsshole/comment...</td>\n",
       "      <td>22</td>\n",
       "      <td>I'm sitting in a local Applebee's and across f...</td>\n",
       "      <td>2021-12-31 23:53:53</td>\n",
       "      <td>False</td>\n",
       "      <td>Everyone Sucks</td>\n",
       "      <td>False</td>\n",
       "    </tr>\n",
       "    <tr>\n",
       "      <th>4</th>\n",
       "      <td>AITA for being completely over my relationship...</td>\n",
       "      <td>rt9t6e</td>\n",
       "      <td>1</td>\n",
       "      <td>1.00</td>\n",
       "      <td>https://www.reddit.com/r/AmItheAsshole/comment...</td>\n",
       "      <td>1</td>\n",
       "      <td>[removed]</td>\n",
       "      <td>2021-12-31 23:50:47</td>\n",
       "      <td>False</td>\n",
       "      <td>NaN</td>\n",
       "      <td>False</td>\n",
       "    </tr>\n",
       "  </tbody>\n",
       "</table>\n",
       "</div>"
      ],
      "text/plain": [
       "                                               title      id  score  \\\n",
       "0    AITA because I don’t agree with my mum’s friend  rt9xvc      1   \n",
       "1  AITA for refusing to visit my father because o...  rt9vwd   1869   \n",
       "2  WIBTA still for ruining our family movie night...  rt9vtn      1   \n",
       "3  WIBTA if I told a toddler's mom to have a bett...  rt9v3v     10   \n",
       "4  AITA for being completely over my relationship...  rt9t6e      1   \n",
       "\n",
       "   upvote_ratio                                                url  \\\n",
       "0          1.00  https://www.reddit.com/r/AmItheAsshole/comment...   \n",
       "1          0.97  https://www.reddit.com/r/AmItheAsshole/comment...   \n",
       "2          1.00  https://www.reddit.com/r/AmItheAsshole/comment...   \n",
       "3          0.75  https://www.reddit.com/r/AmItheAsshole/comment...   \n",
       "4          1.00  https://www.reddit.com/r/AmItheAsshole/comment...   \n",
       "\n",
       "   num_comments                                               body  \\\n",
       "0             1                                          [removed]   \n",
       "1           226  Without going into novel length, my father cur...   \n",
       "2             1                                          [removed]   \n",
       "3            22  I'm sitting in a local Applebee's and across f...   \n",
       "4             1                                          [removed]   \n",
       "\n",
       "               created        edited         verdict  over_18  \n",
       "0  2021-12-31 23:58:36  1641006108.0             NaN    False  \n",
       "1  2021-12-31 23:55:16         False  Not the A-hole    False  \n",
       "2  2021-12-31 23:55:08         False             NaN    False  \n",
       "3  2021-12-31 23:53:53         False  Everyone Sucks    False  \n",
       "4  2021-12-31 23:50:47         False             NaN    False  "
      ]
     },
     "execution_count": 10,
     "metadata": {},
     "output_type": "execute_result"
    }
   ],
   "source": [
    "df.head()"
   ]
  },
  {
   "cell_type": "code",
   "execution_count": 11,
   "id": "4f7a8f97",
   "metadata": {
    "scrolled": true
   },
   "outputs": [
    {
     "name": "stdout",
     "output_type": "stream",
     "text": [
      "<class 'pandas.core.frame.DataFrame'>\n",
      "RangeIndex: 150000 entries, 0 to 149999\n",
      "Data columns (total 11 columns):\n",
      " #   Column        Non-Null Count   Dtype  \n",
      "---  ------        --------------   -----  \n",
      " 0   title         150000 non-null  object \n",
      " 1   id            150000 non-null  object \n",
      " 2   score         150000 non-null  int64  \n",
      " 3   upvote_ratio  150000 non-null  float64\n",
      " 4   url           150000 non-null  object \n",
      " 5   num_comments  150000 non-null  int64  \n",
      " 6   body          149997 non-null  object \n",
      " 7   created       150000 non-null  object \n",
      " 8   edited        150000 non-null  object \n",
      " 9   verdict       37539 non-null   object \n",
      " 10  over_18       150000 non-null  bool   \n",
      "dtypes: bool(1), float64(1), int64(2), object(7)\n",
      "memory usage: 11.6+ MB\n"
     ]
    }
   ],
   "source": [
    "df.info()"
   ]
  },
  {
   "cell_type": "markdown",
   "id": "c02c1ae3",
   "metadata": {},
   "source": [
    "The fields available were decided based on the <a href=\"https://praw.readthedocs.io/en/latest/code_overview/models/submission.html?highlight=submission\">PRAW docs</a> for both the ML model and analytics:\n",
    "- **title**: title of the submission\n",
    "- **id**: ID of the submission\n",
    "- **score**: The number of upvotes for the submission.\n",
    "- **upvote_ratio**: The percentage of upvotes from all votes on the submission.\n",
    "- **url**: The URL the submission links to, or the permalink if a selfpost.\n",
    "- **num_comments**: The number of comments on the submission.\n",
    "- **body (renamed from selftext)**: The submissions’ selftext - an empty string if a link post. \n",
    "- **created**: Time the submission was created, represented in Unix Time.\n",
    "- **edited**: Whether or not the submission has been edited.\n",
    "- **verdict** (renamed from link_flair_text): The link flair’s text content, or None if not flaired.\n",
    "- **over_18**: Whether or not the submission has been marked as NSFW.\n",
    "\n",
    "The main fields for the model are the content body of the submission and the verdict, which comes from the submission flair, which is given after the 18 hours of people commenting on the post."
   ]
  },
  {
   "cell_type": "markdown",
   "id": "112c03f7",
   "metadata": {},
   "source": [
    "<a id=\"cleaning\"></a>\n",
    "## Cleaning\n",
    "\n",
    "For the analysis, we will remove posts with tags outside the verdicts (mod posts or without a flair). Also, \"Not enough info\" posts will be removed as well, as they're considered invalid from the submission point of view.\n",
    "\n",
    "The edited column has a mix of datatypes, so we'll change it to a boolean type to know if the post was edited or not.\n",
    "\n",
    "After cleaning, over 75% of the posts were removed, so the working dataframe has around valid 35k posts."
   ]
  },
  {
   "cell_type": "code",
   "execution_count": 21,
   "id": "2d56c31e",
   "metadata": {},
   "outputs": [
    {
     "data": {
      "text/plain": [
       "Not the A-hole     26588\n",
       "Asshole             5556\n",
       "No A-holes here     2025\n",
       "Everyone Sucks      1494\n",
       "Not enough info      761\n",
       "UPDATE               564\n",
       "TL;DR                545\n",
       "Open Forum             2\n",
       "Talk ENDED             2\n",
       "Mods Needed!           1\n",
       "META                   1\n",
       "Name: verdict, dtype: int64"
      ]
     },
     "execution_count": 21,
     "metadata": {},
     "output_type": "execute_result"
    }
   ],
   "source": [
    "df.verdict.value_counts()"
   ]
  },
  {
   "cell_type": "code",
   "execution_count": 13,
   "id": "3390d5ba",
   "metadata": {
    "scrolled": true
   },
   "outputs": [],
   "source": [
    "nan = np.nan\n",
    "clean_df = df.query(\"verdict not in ['TL;DR', 'UPDATE', @nan, 'Talk ENDED', 'Open Forum', 'Mods Needed!', 'META', 'Not enough info']\")"
   ]
  },
  {
   "cell_type": "code",
   "execution_count": 14,
   "id": "d1781f8e",
   "metadata": {},
   "outputs": [],
   "source": [
    "is_edited = []\n",
    "\n",
    "for i in clean_df.edited.values:\n",
    "    if i == 'False':\n",
    "        column_value = False\n",
    "    else:\n",
    "        column_value = True\n",
    "    is_edited.append(column_value)"
   ]
  },
  {
   "cell_type": "code",
   "execution_count": 15,
   "id": "53630fcf",
   "metadata": {},
   "outputs": [],
   "source": [
    "clean_df.insert(8, 'is_edited', is_edited)"
   ]
  },
  {
   "cell_type": "code",
   "execution_count": 16,
   "id": "f5ae7e24",
   "metadata": {
    "scrolled": true
   },
   "outputs": [],
   "source": [
    "clean_df = clean_df.drop(columns=[\"edited\"])"
   ]
  },
  {
   "cell_type": "code",
   "execution_count": 17,
   "id": "23d8cbd6",
   "metadata": {
    "scrolled": true
   },
   "outputs": [
    {
     "name": "stdout",
     "output_type": "stream",
     "text": [
      "<class 'pandas.core.frame.DataFrame'>\n",
      "Int64Index: 35663 entries, 1 to 149998\n",
      "Data columns (total 11 columns):\n",
      " #   Column        Non-Null Count  Dtype  \n",
      "---  ------        --------------  -----  \n",
      " 0   title         35663 non-null  object \n",
      " 1   id            35663 non-null  object \n",
      " 2   score         35663 non-null  int64  \n",
      " 3   upvote_ratio  35663 non-null  float64\n",
      " 4   url           35663 non-null  object \n",
      " 5   num_comments  35663 non-null  int64  \n",
      " 6   body          35663 non-null  object \n",
      " 7   created       35663 non-null  object \n",
      " 8   is_edited     35663 non-null  bool   \n",
      " 9   verdict       35663 non-null  object \n",
      " 10  over_18       35663 non-null  bool   \n",
      "dtypes: bool(2), float64(1), int64(2), object(6)\n",
      "memory usage: 2.8+ MB\n"
     ]
    }
   ],
   "source": [
    "clean_df.info()"
   ]
  },
  {
   "cell_type": "markdown",
   "id": "2bf74ec6",
   "metadata": {},
   "source": [
    "<a id=\"overview\"></a>\n",
    "## General overview\n",
    "\n",
    "    \n",
    "We start by getting a general overview of the posts. The dataset is unbalanced, as it has a lot more submissions where the verdict was **NTA** over all the other verdicts. This already gives us indication that people tend to post more stories where they wouldn't be deemed the A-holes (a popular theory in the subreddit) and/or that people tend to validate people in their actions, which could also be the case since they're posting one-sided stories where they could always hide inconvenient facts.\n",
    "\n",
    "The timeframe for the data is from mid-August to end of year, 2021, which covers some major holidays, so we could take a closer look at holiday-related posts and see if there's an increase during these days.\n",
    "\n",
    "When looking at descriptive statistics of the numerical fields, we can see that, in average, posts with **YTA** and **ESH** verdicts have higher number of comments than **NTA** and **NAH**, which could be due to people wanting to voice their opinions more on situations where you want to tell the OPs they're wrong, or because longer discussions start in the comment sections. On a similar note, the scores and upvote ratios are lower in **YTA** than the rest of the verdicts, which is also related to the previous point, as people will downvote posts where people are being AHs. "
   ]
  },
  {
   "cell_type": "code",
   "execution_count": 39,
   "id": "1a8c65fb",
   "metadata": {
    "scrolled": true
   },
   "outputs": [
    {
     "data": {
      "text/html": [
       "<div>\n",
       "<style scoped>\n",
       "    .dataframe tbody tr th:only-of-type {\n",
       "        vertical-align: middle;\n",
       "    }\n",
       "\n",
       "    .dataframe tbody tr th {\n",
       "        vertical-align: top;\n",
       "    }\n",
       "\n",
       "    .dataframe thead th {\n",
       "        text-align: right;\n",
       "    }\n",
       "</style>\n",
       "<table border=\"1\" class=\"dataframe\">\n",
       "  <thead>\n",
       "    <tr style=\"text-align: right;\">\n",
       "      <th></th>\n",
       "      <th>title</th>\n",
       "      <th>id</th>\n",
       "      <th>score</th>\n",
       "      <th>upvote_ratio</th>\n",
       "      <th>url</th>\n",
       "      <th>num_comments</th>\n",
       "      <th>body</th>\n",
       "      <th>created</th>\n",
       "      <th>is_edited</th>\n",
       "      <th>verdict</th>\n",
       "      <th>over_18</th>\n",
       "    </tr>\n",
       "  </thead>\n",
       "  <tbody>\n",
       "    <tr>\n",
       "      <th>149998</th>\n",
       "      <td>AITA for giving my dad a book on debunking pse...</td>\n",
       "      <td>p5xpgb</td>\n",
       "      <td>22</td>\n",
       "      <td>0.92</td>\n",
       "      <td>https://www.reddit.com/r/AmItheAsshole/comment...</td>\n",
       "      <td>26</td>\n",
       "      <td>[removed]</td>\n",
       "      <td>2021-08-17 01:41:18</td>\n",
       "      <td>False</td>\n",
       "      <td>Asshole</td>\n",
       "      <td>False</td>\n",
       "    </tr>\n",
       "    <tr>\n",
       "      <th>149997</th>\n",
       "      <td>AITA for refusing to put a leash on my dog?</td>\n",
       "      <td>p5xpke</td>\n",
       "      <td>60</td>\n",
       "      <td>0.69</td>\n",
       "      <td>https://www.reddit.com/r/AmItheAsshole/comment...</td>\n",
       "      <td>146</td>\n",
       "      <td>My (26F) husky is very well-trained. She doesn...</td>\n",
       "      <td>2021-08-17 01:41:33</td>\n",
       "      <td>False</td>\n",
       "      <td>Asshole</td>\n",
       "      <td>False</td>\n",
       "    </tr>\n",
       "    <tr>\n",
       "      <th>149991</th>\n",
       "      <td>AITA for expecting my dad to pay for over half...</td>\n",
       "      <td>p5xr1n</td>\n",
       "      <td>8</td>\n",
       "      <td>0.83</td>\n",
       "      <td>https://www.reddit.com/r/AmItheAsshole/comment...</td>\n",
       "      <td>22</td>\n",
       "      <td>Okay, I understand that straight from the titl...</td>\n",
       "      <td>2021-08-17 01:45:01</td>\n",
       "      <td>False</td>\n",
       "      <td>Everyone Sucks</td>\n",
       "      <td>False</td>\n",
       "    </tr>\n",
       "    <tr>\n",
       "      <th>149990</th>\n",
       "      <td>AITA for asking my housemate to turn his music...</td>\n",
       "      <td>p5xr5n</td>\n",
       "      <td>0</td>\n",
       "      <td>0.50</td>\n",
       "      <td>https://www.reddit.com/r/AmItheAsshole/comment...</td>\n",
       "      <td>9</td>\n",
       "      <td>Not sure if I'm the one being an asshole, but ...</td>\n",
       "      <td>2021-08-17 01:45:17</td>\n",
       "      <td>False</td>\n",
       "      <td>Not the A-hole</td>\n",
       "      <td>False</td>\n",
       "    </tr>\n",
       "    <tr>\n",
       "      <th>149989</th>\n",
       "      <td>WIBTAH if I don’t pay for my friends water dam...</td>\n",
       "      <td>p5xraf</td>\n",
       "      <td>24</td>\n",
       "      <td>0.87</td>\n",
       "      <td>https://www.reddit.com/r/AmItheAsshole/comment...</td>\n",
       "      <td>35</td>\n",
       "      <td>Okay so some context, I (25F) recently got out...</td>\n",
       "      <td>2021-08-17 01:45:38</td>\n",
       "      <td>True</td>\n",
       "      <td>Not the A-hole</td>\n",
       "      <td>False</td>\n",
       "    </tr>\n",
       "    <tr>\n",
       "      <th>...</th>\n",
       "      <td>...</td>\n",
       "      <td>...</td>\n",
       "      <td>...</td>\n",
       "      <td>...</td>\n",
       "      <td>...</td>\n",
       "      <td>...</td>\n",
       "      <td>...</td>\n",
       "      <td>...</td>\n",
       "      <td>...</td>\n",
       "      <td>...</td>\n",
       "      <td>...</td>\n",
       "    </tr>\n",
       "    <tr>\n",
       "      <th>24</th>\n",
       "      <td>AITA for Asking my boyfriend who’s texts he wa...</td>\n",
       "      <td>rt965m</td>\n",
       "      <td>164</td>\n",
       "      <td>0.91</td>\n",
       "      <td>https://www.reddit.com/r/AmItheAsshole/comment...</td>\n",
       "      <td>137</td>\n",
       "      <td>[deleted]</td>\n",
       "      <td>2021-12-31 23:15:06</td>\n",
       "      <td>False</td>\n",
       "      <td>Not the A-hole</td>\n",
       "      <td>False</td>\n",
       "    </tr>\n",
       "    <tr>\n",
       "      <th>12</th>\n",
       "      <td>AITA for getting upset that my sister got me a...</td>\n",
       "      <td>rt9ixd</td>\n",
       "      <td>828</td>\n",
       "      <td>0.97</td>\n",
       "      <td>https://www.reddit.com/r/AmItheAsshole/comment...</td>\n",
       "      <td>162</td>\n",
       "      <td>[removed]</td>\n",
       "      <td>2021-12-31 23:34:27</td>\n",
       "      <td>True</td>\n",
       "      <td>Not the A-hole</td>\n",
       "      <td>False</td>\n",
       "    </tr>\n",
       "    <tr>\n",
       "      <th>7</th>\n",
       "      <td>AITA for setting social media boundaries?</td>\n",
       "      <td>rt9oqf</td>\n",
       "      <td>39</td>\n",
       "      <td>0.85</td>\n",
       "      <td>https://www.reddit.com/r/AmItheAsshole/comment...</td>\n",
       "      <td>48</td>\n",
       "      <td>Some background: I’m 19F, I got SEVERELY bulli...</td>\n",
       "      <td>2021-12-31 23:43:31</td>\n",
       "      <td>False</td>\n",
       "      <td>Not the A-hole</td>\n",
       "      <td>False</td>\n",
       "    </tr>\n",
       "    <tr>\n",
       "      <th>3</th>\n",
       "      <td>WIBTA if I told a toddler's mom to have a bett...</td>\n",
       "      <td>rt9v3v</td>\n",
       "      <td>10</td>\n",
       "      <td>0.75</td>\n",
       "      <td>https://www.reddit.com/r/AmItheAsshole/comment...</td>\n",
       "      <td>22</td>\n",
       "      <td>I'm sitting in a local Applebee's and across f...</td>\n",
       "      <td>2021-12-31 23:53:53</td>\n",
       "      <td>False</td>\n",
       "      <td>Everyone Sucks</td>\n",
       "      <td>False</td>\n",
       "    </tr>\n",
       "    <tr>\n",
       "      <th>1</th>\n",
       "      <td>AITA for refusing to visit my father because o...</td>\n",
       "      <td>rt9vwd</td>\n",
       "      <td>1869</td>\n",
       "      <td>0.97</td>\n",
       "      <td>https://www.reddit.com/r/AmItheAsshole/comment...</td>\n",
       "      <td>226</td>\n",
       "      <td>Without going into novel length, my father cur...</td>\n",
       "      <td>2021-12-31 23:55:16</td>\n",
       "      <td>False</td>\n",
       "      <td>Not the A-hole</td>\n",
       "      <td>False</td>\n",
       "    </tr>\n",
       "  </tbody>\n",
       "</table>\n",
       "<p>35663 rows × 11 columns</p>\n",
       "</div>"
      ],
      "text/plain": [
       "                                                    title      id  score  \\\n",
       "149998  AITA for giving my dad a book on debunking pse...  p5xpgb     22   \n",
       "149997        AITA for refusing to put a leash on my dog?  p5xpke     60   \n",
       "149991  AITA for expecting my dad to pay for over half...  p5xr1n      8   \n",
       "149990  AITA for asking my housemate to turn his music...  p5xr5n      0   \n",
       "149989  WIBTAH if I don’t pay for my friends water dam...  p5xraf     24   \n",
       "...                                                   ...     ...    ...   \n",
       "24      AITA for Asking my boyfriend who’s texts he wa...  rt965m    164   \n",
       "12      AITA for getting upset that my sister got me a...  rt9ixd    828   \n",
       "7               AITA for setting social media boundaries?  rt9oqf     39   \n",
       "3       WIBTA if I told a toddler's mom to have a bett...  rt9v3v     10   \n",
       "1       AITA for refusing to visit my father because o...  rt9vwd   1869   \n",
       "\n",
       "        upvote_ratio                                                url  \\\n",
       "149998          0.92  https://www.reddit.com/r/AmItheAsshole/comment...   \n",
       "149997          0.69  https://www.reddit.com/r/AmItheAsshole/comment...   \n",
       "149991          0.83  https://www.reddit.com/r/AmItheAsshole/comment...   \n",
       "149990          0.50  https://www.reddit.com/r/AmItheAsshole/comment...   \n",
       "149989          0.87  https://www.reddit.com/r/AmItheAsshole/comment...   \n",
       "...              ...                                                ...   \n",
       "24              0.91  https://www.reddit.com/r/AmItheAsshole/comment...   \n",
       "12              0.97  https://www.reddit.com/r/AmItheAsshole/comment...   \n",
       "7               0.85  https://www.reddit.com/r/AmItheAsshole/comment...   \n",
       "3               0.75  https://www.reddit.com/r/AmItheAsshole/comment...   \n",
       "1               0.97  https://www.reddit.com/r/AmItheAsshole/comment...   \n",
       "\n",
       "        num_comments                                               body  \\\n",
       "149998            26                                          [removed]   \n",
       "149997           146  My (26F) husky is very well-trained. She doesn...   \n",
       "149991            22  Okay, I understand that straight from the titl...   \n",
       "149990             9  Not sure if I'm the one being an asshole, but ...   \n",
       "149989            35  Okay so some context, I (25F) recently got out...   \n",
       "...              ...                                                ...   \n",
       "24               137                                          [deleted]   \n",
       "12               162                                          [removed]   \n",
       "7                 48  Some background: I’m 19F, I got SEVERELY bulli...   \n",
       "3                 22  I'm sitting in a local Applebee's and across f...   \n",
       "1                226  Without going into novel length, my father cur...   \n",
       "\n",
       "                    created  is_edited         verdict  over_18  \n",
       "149998  2021-08-17 01:41:18      False         Asshole    False  \n",
       "149997  2021-08-17 01:41:33      False         Asshole    False  \n",
       "149991  2021-08-17 01:45:01      False  Everyone Sucks    False  \n",
       "149990  2021-08-17 01:45:17      False  Not the A-hole    False  \n",
       "149989  2021-08-17 01:45:38       True  Not the A-hole    False  \n",
       "...                     ...        ...             ...      ...  \n",
       "24      2021-12-31 23:15:06      False  Not the A-hole    False  \n",
       "12      2021-12-31 23:34:27       True  Not the A-hole    False  \n",
       "7       2021-12-31 23:43:31      False  Not the A-hole    False  \n",
       "3       2021-12-31 23:53:53      False  Everyone Sucks    False  \n",
       "1       2021-12-31 23:55:16      False  Not the A-hole    False  \n",
       "\n",
       "[35663 rows x 11 columns]"
      ]
     },
     "execution_count": 39,
     "metadata": {},
     "output_type": "execute_result"
    }
   ],
   "source": [
    "clean_df.sort_values(by=\"created\")"
   ]
  },
  {
   "cell_type": "code",
   "execution_count": 27,
   "id": "1d016cfd",
   "metadata": {
    "scrolled": false
   },
   "outputs": [
    {
     "data": {
      "text/html": [
       "<div>\n",
       "<style scoped>\n",
       "    .dataframe tbody tr th:only-of-type {\n",
       "        vertical-align: middle;\n",
       "    }\n",
       "\n",
       "    .dataframe tbody tr th {\n",
       "        vertical-align: top;\n",
       "    }\n",
       "\n",
       "    .dataframe thead th {\n",
       "        text-align: right;\n",
       "    }\n",
       "</style>\n",
       "<table border=\"1\" class=\"dataframe\">\n",
       "  <thead>\n",
       "    <tr style=\"text-align: right;\">\n",
       "      <th></th>\n",
       "      <th>verdict</th>\n",
       "      <th>Asshole</th>\n",
       "      <th>Everyone Sucks</th>\n",
       "      <th>No A-holes here</th>\n",
       "      <th>Not the A-hole</th>\n",
       "    </tr>\n",
       "  </thead>\n",
       "  <tbody>\n",
       "    <tr>\n",
       "      <th rowspan=\"8\" valign=\"top\">score</th>\n",
       "      <th>count</th>\n",
       "      <td>5556.000000</td>\n",
       "      <td>1494.000000</td>\n",
       "      <td>2025.000000</td>\n",
       "      <td>26588.000000</td>\n",
       "    </tr>\n",
       "    <tr>\n",
       "      <th>mean</th>\n",
       "      <td>539.046436</td>\n",
       "      <td>327.498661</td>\n",
       "      <td>158.789630</td>\n",
       "      <td>745.298180</td>\n",
       "    </tr>\n",
       "    <tr>\n",
       "      <th>std</th>\n",
       "      <td>2056.536772</td>\n",
       "      <td>1352.262357</td>\n",
       "      <td>773.826195</td>\n",
       "      <td>2511.693064</td>\n",
       "    </tr>\n",
       "    <tr>\n",
       "      <th>min</th>\n",
       "      <td>0.000000</td>\n",
       "      <td>0.000000</td>\n",
       "      <td>0.000000</td>\n",
       "      <td>0.000000</td>\n",
       "    </tr>\n",
       "    <tr>\n",
       "      <th>25%</th>\n",
       "      <td>5.000000</td>\n",
       "      <td>4.000000</td>\n",
       "      <td>4.000000</td>\n",
       "      <td>7.000000</td>\n",
       "    </tr>\n",
       "    <tr>\n",
       "      <th>50%</th>\n",
       "      <td>15.000000</td>\n",
       "      <td>9.000000</td>\n",
       "      <td>8.000000</td>\n",
       "      <td>20.000000</td>\n",
       "    </tr>\n",
       "    <tr>\n",
       "      <th>75%</th>\n",
       "      <td>59.000000</td>\n",
       "      <td>34.000000</td>\n",
       "      <td>24.000000</td>\n",
       "      <td>178.000000</td>\n",
       "    </tr>\n",
       "    <tr>\n",
       "      <th>max</th>\n",
       "      <td>25186.000000</td>\n",
       "      <td>15723.000000</td>\n",
       "      <td>15260.000000</td>\n",
       "      <td>41160.000000</td>\n",
       "    </tr>\n",
       "    <tr>\n",
       "      <th rowspan=\"8\" valign=\"top\">upvote_ratio</th>\n",
       "      <th>count</th>\n",
       "      <td>5556.000000</td>\n",
       "      <td>1494.000000</td>\n",
       "      <td>2025.000000</td>\n",
       "      <td>26588.000000</td>\n",
       "    </tr>\n",
       "    <tr>\n",
       "      <th>mean</th>\n",
       "      <td>0.700734</td>\n",
       "      <td>0.745207</td>\n",
       "      <td>0.758726</td>\n",
       "      <td>0.829919</td>\n",
       "    </tr>\n",
       "    <tr>\n",
       "      <th>std</th>\n",
       "      <td>0.153435</td>\n",
       "      <td>0.148418</td>\n",
       "      <td>0.138937</td>\n",
       "      <td>0.130107</td>\n",
       "    </tr>\n",
       "    <tr>\n",
       "      <th>min</th>\n",
       "      <td>0.130000</td>\n",
       "      <td>0.170000</td>\n",
       "      <td>0.250000</td>\n",
       "      <td>0.140000</td>\n",
       "    </tr>\n",
       "    <tr>\n",
       "      <th>25%</th>\n",
       "      <td>0.620000</td>\n",
       "      <td>0.650000</td>\n",
       "      <td>0.670000</td>\n",
       "      <td>0.750000</td>\n",
       "    </tr>\n",
       "    <tr>\n",
       "      <th>50%</th>\n",
       "      <td>0.710000</td>\n",
       "      <td>0.760000</td>\n",
       "      <td>0.780000</td>\n",
       "      <td>0.860000</td>\n",
       "    </tr>\n",
       "    <tr>\n",
       "      <th>75%</th>\n",
       "      <td>0.820000</td>\n",
       "      <td>0.867500</td>\n",
       "      <td>0.870000</td>\n",
       "      <td>0.940000</td>\n",
       "    </tr>\n",
       "    <tr>\n",
       "      <th>max</th>\n",
       "      <td>1.000000</td>\n",
       "      <td>1.000000</td>\n",
       "      <td>1.000000</td>\n",
       "      <td>1.000000</td>\n",
       "    </tr>\n",
       "    <tr>\n",
       "      <th rowspan=\"8\" valign=\"top\">num_comments</th>\n",
       "      <th>count</th>\n",
       "      <td>5556.000000</td>\n",
       "      <td>1494.000000</td>\n",
       "      <td>2025.000000</td>\n",
       "      <td>26588.000000</td>\n",
       "    </tr>\n",
       "    <tr>\n",
       "      <th>mean</th>\n",
       "      <td>208.407847</td>\n",
       "      <td>114.285810</td>\n",
       "      <td>59.793086</td>\n",
       "      <td>118.523996</td>\n",
       "    </tr>\n",
       "    <tr>\n",
       "      <th>std</th>\n",
       "      <td>602.575620</td>\n",
       "      <td>409.733118</td>\n",
       "      <td>231.239759</td>\n",
       "      <td>337.745845</td>\n",
       "    </tr>\n",
       "    <tr>\n",
       "      <th>min</th>\n",
       "      <td>3.000000</td>\n",
       "      <td>3.000000</td>\n",
       "      <td>3.000000</td>\n",
       "      <td>2.000000</td>\n",
       "    </tr>\n",
       "    <tr>\n",
       "      <th>25%</th>\n",
       "      <td>24.000000</td>\n",
       "      <td>16.000000</td>\n",
       "      <td>13.000000</td>\n",
       "      <td>16.000000</td>\n",
       "    </tr>\n",
       "    <tr>\n",
       "      <th>50%</th>\n",
       "      <td>44.000000</td>\n",
       "      <td>27.000000</td>\n",
       "      <td>23.000000</td>\n",
       "      <td>28.000000</td>\n",
       "    </tr>\n",
       "    <tr>\n",
       "      <th>75%</th>\n",
       "      <td>103.000000</td>\n",
       "      <td>54.000000</td>\n",
       "      <td>41.000000</td>\n",
       "      <td>64.000000</td>\n",
       "    </tr>\n",
       "    <tr>\n",
       "      <th>max</th>\n",
       "      <td>8065.000000</td>\n",
       "      <td>7977.000000</td>\n",
       "      <td>5836.000000</td>\n",
       "      <td>5810.000000</td>\n",
       "    </tr>\n",
       "  </tbody>\n",
       "</table>\n",
       "</div>"
      ],
      "text/plain": [
       "verdict                  Asshole  Everyone Sucks  No A-holes here  \\\n",
       "score        count   5556.000000     1494.000000      2025.000000   \n",
       "             mean     539.046436      327.498661       158.789630   \n",
       "             std     2056.536772     1352.262357       773.826195   \n",
       "             min        0.000000        0.000000         0.000000   \n",
       "             25%        5.000000        4.000000         4.000000   \n",
       "             50%       15.000000        9.000000         8.000000   \n",
       "             75%       59.000000       34.000000        24.000000   \n",
       "             max    25186.000000    15723.000000     15260.000000   \n",
       "upvote_ratio count   5556.000000     1494.000000      2025.000000   \n",
       "             mean       0.700734        0.745207         0.758726   \n",
       "             std        0.153435        0.148418         0.138937   \n",
       "             min        0.130000        0.170000         0.250000   \n",
       "             25%        0.620000        0.650000         0.670000   \n",
       "             50%        0.710000        0.760000         0.780000   \n",
       "             75%        0.820000        0.867500         0.870000   \n",
       "             max        1.000000        1.000000         1.000000   \n",
       "num_comments count   5556.000000     1494.000000      2025.000000   \n",
       "             mean     208.407847      114.285810        59.793086   \n",
       "             std      602.575620      409.733118       231.239759   \n",
       "             min        3.000000        3.000000         3.000000   \n",
       "             25%       24.000000       16.000000        13.000000   \n",
       "             50%       44.000000       27.000000        23.000000   \n",
       "             75%      103.000000       54.000000        41.000000   \n",
       "             max     8065.000000     7977.000000      5836.000000   \n",
       "\n",
       "verdict             Not the A-hole  \n",
       "score        count    26588.000000  \n",
       "             mean       745.298180  \n",
       "             std       2511.693064  \n",
       "             min          0.000000  \n",
       "             25%          7.000000  \n",
       "             50%         20.000000  \n",
       "             75%        178.000000  \n",
       "             max      41160.000000  \n",
       "upvote_ratio count    26588.000000  \n",
       "             mean         0.829919  \n",
       "             std          0.130107  \n",
       "             min          0.140000  \n",
       "             25%          0.750000  \n",
       "             50%          0.860000  \n",
       "             75%          0.940000  \n",
       "             max          1.000000  \n",
       "num_comments count    26588.000000  \n",
       "             mean       118.523996  \n",
       "             std        337.745845  \n",
       "             min          2.000000  \n",
       "             25%         16.000000  \n",
       "             50%         28.000000  \n",
       "             75%         64.000000  \n",
       "             max       5810.000000  "
      ]
     },
     "execution_count": 27,
     "metadata": {},
     "output_type": "execute_result"
    }
   ],
   "source": [
    "clean_df.groupby(\"verdict\").describe().transpose()"
   ]
  },
  {
   "cell_type": "markdown",
   "id": "6c90464e",
   "metadata": {},
   "source": [
    "<a id=\"insights\"></a>\n",
    "## Insights"
   ]
  },
  {
   "cell_type": "markdown",
   "id": "cdaeb394",
   "metadata": {},
   "source": [
    "### General overview of verdicts"
   ]
  },
  {
   "cell_type": "code",
   "execution_count": 33,
   "id": "f733d243",
   "metadata": {},
   "outputs": [
    {
     "data": {
      "text/plain": [
       "25132"
      ]
     },
     "execution_count": 33,
     "metadata": {},
     "output_type": "execute_result"
    }
   ],
   "source": [
    "total_posts = clean_df.id.count()\n",
    "total_posts"
   ]
  },
  {
   "cell_type": "code",
   "execution_count": 43,
   "id": "8e2bf689",
   "metadata": {
    "scrolled": false
   },
   "outputs": [
    {
     "data": {
      "text/plain": [
       "Not the A-hole     74.641891\n",
       "Asshole            15.502149\n",
       "No A-holes here     5.646188\n",
       "Everyone Sucks      4.209772\n",
       "Name: verdict, dtype: float64"
      ]
     },
     "execution_count": 43,
     "metadata": {},
     "output_type": "execute_result"
    }
   ],
   "source": [
    "clean_df.verdict.value_counts() / total_posts * 100"
   ]
  },
  {
   "cell_type": "markdown",
   "id": "d79699c3",
   "metadata": {},
   "source": [
    "### Removed posts proportion"
   ]
  },
  {
   "cell_type": "code",
   "execution_count": 28,
   "id": "07fe6a70",
   "metadata": {},
   "outputs": [],
   "source": [
    "total_removed_posts = clean_df.query(\"body in ['[deleted]', '[removed]']\").id.count()"
   ]
  },
  {
   "cell_type": "code",
   "execution_count": 29,
   "id": "62b1710d",
   "metadata": {},
   "outputs": [],
   "source": [
    "pctg_verdicts = clean_df.query(\"body in ['[deleted]', '[removed]']\").verdict.value_counts() / total_removed_posts * 100"
   ]
  },
  {
   "cell_type": "code",
   "execution_count": 30,
   "id": "f19e326f",
   "metadata": {},
   "outputs": [],
   "source": [
    "## general parameters for plotting\n",
    "legends = list(clean_df.verdict.unique().astype(\"str\"))\n",
    "ind = np.arange(len(pctg_verdicts))\n",
    "ticks = np.arange(len(legends))\n",
    "width = 0.9"
   ]
  },
  {
   "cell_type": "code",
   "execution_count": 31,
   "id": "c6617f59",
   "metadata": {},
   "outputs": [
    {
     "data": {
      "image/png": "[encoded data removed]",
      "text/plain": [
       "<Figure size 800x550 with 1 Axes>"
      ]
     },
     "metadata": {
      "needs_background": "light"
     },
     "output_type": "display_data"
    }
   ],
   "source": [
    "## plotting\n",
    "plt.figure(figsize=(8,5.5), dpi=100)\n",
    "plt.bar(ind, pctg_verdicts, width, label = \"Percentage of posts\", color=(0.33, 0.62, 0.67, 0.85))\n",
    "\n",
    "plt.ylabel('Percentage of posts', fontsize=14)\n",
    "plt.xlabel('Verdicts', fontsize=14)\n",
    "plt.title('Proportion of verdicts', fontsize=20)\n",
    "locations = ticks\n",
    "plt.xticks(locations, legends, fontsize=12)\n",
    "plt.yticks()\n",
    "sns.despine();"
   ]
  },
  {
   "cell_type": "markdown",
   "id": "f8bc0ecf",
   "metadata": {},
   "source": [
    "### Upvote ratio"
   ]
  },
  {
   "cell_type": "code",
   "execution_count": 176,
   "id": "208df58c",
   "metadata": {
    "scrolled": true
   },
   "outputs": [
    {
     "data": {
      "text/plain": [
       "verdict\n",
       "Asshole            0.699498\n",
       "Everyone Sucks     0.745308\n",
       "No A-holes here    0.759542\n",
       "Not the A-hole     0.826118\n",
       "Name: upvote_ratio, dtype: float64"
      ]
     },
     "execution_count": 176,
     "metadata": {},
     "output_type": "execute_result"
    }
   ],
   "source": [
    "clean_df.groupby(\"verdict\").upvote_ratio.mean()"
   ]
  },
  {
   "cell_type": "markdown",
   "id": "fe3ca3ba",
   "metadata": {},
   "source": [
    "### Number of comments"
   ]
  },
  {
   "cell_type": "code",
   "execution_count": 177,
   "id": "12dff7d4",
   "metadata": {
    "scrolled": true
   },
   "outputs": [
    {
     "data": {
      "text/plain": [
       "verdict\n",
       "Asshole            193.902868\n",
       "Everyone Sucks     110.381279\n",
       "No A-holes here     59.662848\n",
       "Not the A-hole     109.272593\n",
       "Name: num_comments, dtype: float64"
      ]
     },
     "execution_count": 177,
     "metadata": {},
     "output_type": "execute_result"
    }
   ],
   "source": [
    "clean_df.groupby(\"verdict\").num_comments.mean()"
   ]
  },
  {
   "cell_type": "markdown",
   "id": "d5010ff7",
   "metadata": {},
   "source": [
    "### Number of upvotes"
   ]
  },
  {
   "cell_type": "code",
   "execution_count": 178,
   "id": "6a3a0c05",
   "metadata": {
    "scrolled": true
   },
   "outputs": [
    {
     "data": {
      "text/plain": [
       "verdict\n",
       "Asshole            505.537810\n",
       "Everyone Sucks     321.625571\n",
       "No A-holes here    172.189853\n",
       "Not the A-hole     685.821911\n",
       "Name: score, dtype: float64"
      ]
     },
     "execution_count": 178,
     "metadata": {},
     "output_type": "execute_result"
    }
   ],
   "source": [
    "clean_df.groupby(\"verdict\").score.mean()"
   ]
  },
  {
   "cell_type": "markdown",
   "id": "5ea583c7",
   "metadata": {},
   "source": [
    "### Word Clouds"
   ]
  },
  {
   "cell_type": "code",
   "execution_count": 179,
   "id": "2895f53c",
   "metadata": {},
   "outputs": [],
   "source": [
    "nta_df = clean_df.query(\"verdict == 'Not the A-hole'\").sort_values(by=\"num_comments\", ascending=False).head(500)"
   ]
  },
  {
   "cell_type": "code",
   "execution_count": 180,
   "id": "f7445ab4",
   "metadata": {},
   "outputs": [],
   "source": [
    "yta_df = clean_df.query(\"verdict == 'Asshole'\").sort_values(by=\"num_comments\", ascending=False).head(500)"
   ]
  },
  {
   "cell_type": "code",
   "execution_count": 181,
   "id": "414609a4",
   "metadata": {},
   "outputs": [],
   "source": [
    "nta_text = []\n",
    "\n",
    "for text in nta_df.body.values:\n",
    "    with open(os.path.join(\"../analytics/nta_text.txt\"), \"a+\") as f:\n",
    "        f.write(text)"
   ]
  },
  {
   "cell_type": "code",
   "execution_count": 182,
   "id": "a74ac570",
   "metadata": {},
   "outputs": [],
   "source": [
    "yta_text = []\n",
    "\n",
    "for text in yta_df.body.values:\n",
    "    with open(os.path.join(\"../analytics/yta_text.txt\"), \"a+\") as f:\n",
    "        f.write(text)"
   ]
  },
  {
   "cell_type": "markdown",
   "id": "fdd38ee8",
   "metadata": {},
   "source": [
    "<a id=\"discussion\"></a>\n",
    "## Discussion\n",
    "This project represents the end of the Nanodegree, and was created from scratch thinking of something that could be both fun and could provide insight from a popular website that I personally browse everyday. It was challenging, and tries to cover a little bit of everything learned through this course. \n",
    "\n",
    "The dataset was obtained from scratch using Reddit APIs, which was a whole world to explore on its own and took a lot of testing to get the information with the desired format and using the right filters. Thanks to this, the dataset required minimal cleaning steps, mostly for formatting issues, as it was designed and then retrieved from the API with the project in mind. This process required some iteration regarding the size of the dataset, because over 3/4 of the original posts were removed as they had an invalid or null flair, so the script was modified until a better sample size was gathered for the smaller classes.\n",
    "\n",
    "The machine learning pipeline was similar to what was covered during the course, but proved to be even more rewarding when using original data and iterating through the script to improve its metrics for a better model. The original dataset was biased towards a particular verdict, so several things were tested before the final version which improved its metrics from the first one. A few things were implemented, like accounting for imbalaced classes, trying different dataset sizes, trying two classifiers (AdaBoostClassifier and RandomForestClassifier) and looking through different parameters to test with GridSearch. In the end, the model had higher metrics, and since the classes were balanced, the accuracy improved overall. It's not perfect (yet), due to the complexity of this challenge, which might be a bit ambitious in wanting to classify based on internet users' moral compass, which is an issue on its own.\n",
    "\n",
    "As for analytical results, we were able to visualize a few different trends regarding behaviour around these posts, like the comment activity and willingness to delete your own posts based on verdicts."
   ]
  }
 ],
 "metadata": {
  "kernelspec": {
   "display_name": "Python 3",
   "language": "python",
   "name": "python3"
  },
  "language_info": {
   "codemirror_mode": {
    "name": "ipython",
    "version": 3
   },
   "file_extension": ".py",
   "mimetype": "text/x-python",
   "name": "python",
   "nbconvert_exporter": "python",
   "pygments_lexer": "ipython3",
   "version": "3.8.8"
  }
 },
 "nbformat": 4,
 "nbformat_minor": 5
}
